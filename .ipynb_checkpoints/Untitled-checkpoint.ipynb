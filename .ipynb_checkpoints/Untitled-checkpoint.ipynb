{
 "cells": [
  {
   "cell_type": "code",
   "execution_count": 5,
   "metadata": {},
   "outputs": [],
   "source": [
    "from psyco import PSYCO\n",
    "import numpy as np\n",
    "import os\n",
    "import pandas as pd\n",
    "import time "
   ]
  },
  {
   "cell_type": "code",
   "execution_count": 6,
   "metadata": {},
   "outputs": [
    {
     "name": "stdout",
     "output_type": "stream",
     "text": [
      "2949 Tags were read in 35900.49656581879 seconds\n"
     ]
    },
    {
     "name": "stderr",
     "output_type": "stream",
     "text": [
      "Starting Left over Tag match comphrensive loop 6: 100%|██████████| 677/677 [27:54<00:00,  2.47s/it]\n",
      "Matching last tag in frame: 100%|██████████| 22802/22802 [20:13<00:00, 18.79it/s]  \n",
      "Assigning Sort ID to bboxes: 100%|██████████| 509652/509652 [05:42<00:00, 1487.53it/s]\n",
      "Inserting Kalmen filter predictions: 100%|██████████| 509641/509641 [12:39<00:00, 670.58it/s]  \n"
     ]
    },
    {
     "name": "stdout",
     "output_type": "stream",
     "text": [
      "Removed sort ids [855, 855, 44, 103, 139, 204, 213, 223, 252, 256, 303, 332, 333, 334, 337, 339, 344, 354, 356, 373, 403, 406, 418, 491, 496, 501, 522, 526, 549, 554, 555, 571, 586, 607, 616, 636, 666, 693, 704, 712, 737, 741, 742, 754, 766, 795, 803, 819, 841, 842, 843, 862, 891, 898, 903, 919, 939, 943, 944, 945, 948, 950, 954, 958, 960, 961, 963, 970, 976, 977, 979, 980, 983, 984, 1001, 1014, 1017, 1018, 1027] for possible false negatives\n"
     ]
    },
    {
     "name": "stderr",
     "output_type": "stream",
     "text": [
      "Starting to match RFID readings from entrance reader: 100%|██████████| 886/886 [10:54<00:00,  1.35it/s]\n",
      "Starting Left over Tag match comphrensive loop 4: 100%|██████████| 677/677 [22:33<00:00,  2.00s/it]s]\n",
      "Starting Left over Tag match comphrensive loop 5: 100%|██████████| 677/677 [14:53<00:00,  1.32s/it]\n",
      "Starting to match RFID readings from Cage readers: 100%|██████████| 2069/2069 [48:55<00:00,  1.42s/it]\n",
      "Starting Left over Tag match comphrensive loop 1: 100%|██████████| 1376/1376 [41:38<00:00,  1.82s/it]\n",
      "Starting Left over Tag match comphrensive loop 2: 100%|██████████| 771/771 [37:36<00:00,  2.93s/it]\n",
      "Starting Left over Tag match comphrensive loop 3: 100%|██████████| 724/724 [30:13<00:00,  2.51s/it]\n",
      "Starting Left over Tag match comphrensive loop 6: 100%|██████████| 677/677 [07:50<00:00,  1.44it/s]\n",
      "Matching last tag in frame: 100%|██████████| 22802/22802 [00:27<00:00, 1860.55it/s]"
     ]
    },
    {
     "name": "stdout",
     "output_type": "stream",
     "text": [
      "94.91820610317524\n"
     ]
    }
   ],
   "source": [
    "paths='/home/tony/alt_tracker/tests/'\n",
    "config_path='/home/tony/alt_tracker/tests/config.ini'\n",
    "coverage=[]\n",
    "vids=[paths+folder for folder in os.listdir(paths) if folder[-4:]!='.txt' and folder[-4:] !='ions' and folder[-4:]!='.csv' and folder[-4:]!='.ini']\n",
    "vids=[vids[1]]\n",
    "for path in vids:\n",
    "    with open(path+'/'+'logs.txt','r') as f:\n",
    "        tags=f.readlines()\n",
    "        tags=[int(i) for i in tags[1][6:].split(',')]\n",
    "    test2=PSYCO(path,config_path)\n",
    "    #test2.detect_mice()\n",
    "    test2.load_RFID()\n",
    "    test2.load_dets()\n",
    "    _,_,cov=test2.RFID_match()\n",
    "    test2.find_activte_mice()\n",
    "test2.generate_validation_video()"
   ]
  },
  {
   "cell_type": "code",
   "execution_count": 10,
   "metadata": {},
   "outputs": [
    {
     "data": {
      "text/plain": [
       "75.55146634181341"
      ]
     },
     "execution_count": 10,
     "metadata": {},
     "output_type": "execute_result"
    }
   ],
   "source": [
    "\n",
    "paths='/media/tony/data/data/ann_marie/mx1/2021-01-06_23-58-16/'\n",
    "config_path='/media/tony/data/data/ann_marie/mx1/config.ini'\n",
    "coverage=[]\n",
    "#vids=[paths+folder for folder in os.listdir(paths) if folder[-4:]!='.txt' and folder[-4:] !='ions' and folder[-4:]!='.csv' and folder[-4:]!='.ini']\n",
    "vids=['/media/tony/data/data/ann_marie/mx1/2021-01-06_23-58-16']\n",
    "for path in vids:\n",
    "    with open(path+'/'+'logs.txt','r') as f:\n",
    "        tags=f.readlines()\n",
    "        tags=[int(i) for i in tags[1][6:].split(',')]\n",
    "    df2=pd.read_csv(f'{path}/RFID_data_all.csv',index_col=False)\n",
    "    df2.Time=pd.to_datetime(df2['Time'],format=\"%Y-%m-%d_%H:%M:%S.%f\")\n",
    "    df2['Time']=df2['Time'].astype(np.int64)/10**9\n",
    "    duration=df2.iloc[-1]['Time']-df2.iloc[0]['Time']\n",
    "    test2=PSYCO(path,config_path)\n",
    "    #test2.detect_mice()\n",
    "    t1=time.time()\n",
    "    test2.load_RFID()\n",
    "    test2.load_dets()\n",
    "    _,_,cov=test2.RFID_match()\n",
    "    test2.find_activte_mice()\n",
    "    t2=time.time()\n",
    "#rought detection speed: 188.76 min rtx2080ti;339 min on g\n",
    "#test2.generate_validation_video()\n",
    "#13 hours\n",
    "#5:39 min SORT assignment\n",
    "#12:52 min  kal\n"
   ]
  }
 ],
 "metadata": {
  "kernelspec": {
   "display_name": "Python 3",
   "language": "python",
   "name": "python3"
  },
  "language_info": {
   "codemirror_mode": {
    "name": "ipython",
    "version": 3
   },
   "file_extension": ".py",
   "mimetype": "text/x-python",
   "name": "python",
   "nbconvert_exporter": "python",
   "pygments_lexer": "ipython3",
   "version": "3.7.0"
  }
 },
 "nbformat": 4,
 "nbformat_minor": 4
}
