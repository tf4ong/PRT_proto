{
 "cells": [
  {
   "cell_type": "code",
   "execution_count": 1,
   "metadata": {},
   "outputs": [],
   "source": [
    "from psyco import PSYCO\n",
    "import numpy as np\n",
    "import os\n",
    "import pandas as pd\n",
    "import time "
   ]
  },
  {
   "cell_type": "code",
   "execution_count": 2,
   "metadata": {},
   "outputs": [
    {
     "name": "stdout",
     "output_type": "stream",
     "text": [
      "445 Tags were read in 599.9291288852692 seconds\n"
     ]
    },
    {
     "name": "stderr",
     "output_type": "stream",
     "text": [
      "Assigning Sort ID to bboxes: 100%|██████████| 19729/19729 [00:27<00:00, 718.08it/s]\n",
      "Inserting Kalmen filter predictions: 100%|██████████| 19729/19729 [00:20<00:00, 952.64it/s] \n",
      "Reconnecting IDs:: 100%|██████████| 19729/19729 [00:47<00:00, 411.34it/s]5 [00:09<02:40,  2.68it/s]\n",
      "Starting to match RFID readings from Cage readers: 100%|██████████| 445/445 [02:17<00:00,  3.25it/s]\n",
      "Starting Left over Tag match comphrensive loop 1: 100%|██████████| 142/142 [00:05<00:00, 27.37it/s]\n",
      "Matching last tag in frame:  53%|█████▎    | 184/345 [00:00<00:00, 1838.40it/s]"
     ]
    },
    {
     "name": "stdout",
     "output_type": "stream",
     "text": [
      "99.84870877751445\n"
     ]
    },
    {
     "name": "stderr",
     "output_type": "stream",
     "text": [
      "Matching last tag in frame: 100%|██████████| 345/345 [00:01<00:00, 172.92it/s] \n",
      "  0%|          | 2/19729 [00:00<19:41, 16.70it/s]"
     ]
    },
    {
     "name": "stdout",
     "output_type": "stream",
     "text": [
      "/home/tony/alt_tracker/tests/alter_test1\n"
     ]
    },
    {
     "name": "stderr",
     "output_type": "stream",
     "text": [
      "100%|█████████▉| 19728/19729 [04:38<00:00, 74.23it/s]%|██████████| 21/21 [00:17<00:00, 35.56it/s]"
     ]
    }
   ],
   "source": [
    "paths='/home/tony/alt_tracker/tests/'\n",
    "config_path='/home/tony/alt_tracker/tests/config.ini'\n",
    "coverage=[]\n",
    "vids=[paths+folder for folder in os.listdir(paths) if folder[-4:]!='.txt' and folder[-4:] !='ions' and folder[-4:]!='.csv' and folder[-4:]!='.ini']\n",
    "vids=[vids[1]]\n",
    "for path in vids:\n",
    "    with open(path+'/'+'logs.txt','r') as f:\n",
    "        tags=f.readlines()\n",
    "        tags=[int(i) for i in tags[1][6:].split(',')]\n",
    "    test2=PSYCO(path,config_path)\n",
    "    #test2.detect_mice()\n",
    "    test2.load_RFID()\n",
    "    test2.load_dets()\n",
    "    _,_,cov=test2.RFID_match()\n",
    "    test2.find_activte_mice()\n",
    "#test2.generate_validation_video()\n",
    "test2.generate_labeled_video()"
   ]
  },
  {
   "cell_type": "code",
   "execution_count": 10,
   "metadata": {},
   "outputs": [
    {
     "data": {
      "text/plain": [
       "75.55146634181341"
      ]
     },
     "execution_count": 10,
     "metadata": {},
     "output_type": "execute_result"
    }
   ],
   "source": [
    "\n",
    "paths='/media/tony/data/data/ann_marie/mx1/2021-01-06_23-58-16/'\n",
    "config_path='/media/tony/data/data/ann_marie/mx1/config.ini'\n",
    "coverage=[]\n",
    "#vids=[paths+folder for folder in os.listdir(paths) if folder[-4:]!='.txt' and folder[-4:] !='ions' and folder[-4:]!='.csv' and folder[-4:]!='.ini']\n",
    "vids=['/media/tony/data/data/ann_marie/mx1/2021-01-06_23-58-16']\n",
    "for path in vids:\n",
    "    with open(path+'/'+'logs.txt','r') as f:\n",
    "        tags=f.readlines()\n",
    "        tags=[int(i) for i in tags[1][6:].split(',')]\n",
    "    df2=pd.read_csv(f'{path}/RFID_data_all.csv',index_col=False)\n",
    "    df2.Time=pd.to_datetime(df2['Time'],format=\"%Y-%m-%d_%H:%M:%S.%f\")\n",
    "    df2['Time']=df2['Time'].astype(np.int64)/10**9\n",
    "    duration=df2.iloc[-1]['Time']-df2.iloc[0]['Time']\n",
    "    test2=PSYCO(path,config_path)\n",
    "    #test2.detect_mice()\n",
    "    t1=time.time()\n",
    "    test2.load_RFID()\n",
    "    test2.load_dets()\n",
    "    _,_,cov=test2.RFID_match()\n",
    "    test2.find_activte_mice()\n",
    "    t2=time.time()\n",
    "#rought detection speed: 188.76 min rtx2080ti;339 min on g\n",
    "#test2.generate_validation_video()\n",
    "#13 hours\n",
    "#5:39 min SORT assignment\n",
    "#12:52 min  kal\n"
   ]
  }
 ],
 "metadata": {
  "kernelspec": {
   "display_name": "Python 3",
   "language": "python",
   "name": "python3"
  },
  "language_info": {
   "codemirror_mode": {
    "name": "ipython",
    "version": 3
   },
   "file_extension": ".py",
   "mimetype": "text/x-python",
   "name": "python",
   "nbconvert_exporter": "python",
   "pygments_lexer": "ipython3",
   "version": "3.7.0"
  }
 },
 "nbformat": 4,
 "nbformat_minor": 4
}
