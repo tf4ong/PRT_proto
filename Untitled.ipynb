{
 "cells": [
  {
   "cell_type": "code",
   "execution_count": 1,
   "metadata": {},
   "outputs": [],
   "source": [
    "from psyco import PSYCO\n",
    "import numpy as np\n",
    "import os\n",
    "import pandas as pd\n",
    "import time "
   ]
  },
  {
   "cell_type": "code",
   "execution_count": 2,
   "metadata": {},
   "outputs": [
    {
     "name": "stdout",
     "output_type": "stream",
     "text": [
      "445 Tags were read in 599.9291288852692 seconds\n"
     ]
    },
    {
     "name": "stderr",
     "output_type": "stream",
     "text": [
      "Assigning Sort ID to bboxes: 100%|██████████| 19729/19729 [00:24<00:00, 797.68it/s] \n",
      "Inserting Kalmen filter predictions: 100%|██████████| 19729/19729 [00:20<00:00, 966.16it/s] \n",
      "Reconnecting IDs:: 100%|██████████| 19729/19729 [00:47<00:00, 413.08it/s]5 [00:09<02:37,  2.73it/s]\n",
      "Starting to match RFID readings from Cage readers: 100%|██████████| 445/445 [02:15<00:00,  3.29it/s]\n",
      "Starting Left over Tag match comphrensive loop 1: 100%|██████████| 142/142 [00:05<00:00, 27.71it/s]\n",
      "Matching last tag in frame:  58%|█████▊    | 201/345 [00:00<00:00, 2005.25it/s]"
     ]
    },
    {
     "name": "stdout",
     "output_type": "stream",
     "text": [
      "99.84870877751445\n"
     ]
    },
    {
     "name": "stderr",
     "output_type": "stream",
     "text": [
      "Matching last tag in frame: 100%|██████████| 345/345 [00:01<00:00, 175.69it/s] \n"
     ]
    },
    {
     "ename": "TypeError",
     "evalue": "string indices must be integers",
     "output_type": "error",
     "traceback": [
      "\u001b[0;31m---------------------------------------------------------------------------\u001b[0m",
      "\u001b[0;31mTypeError\u001b[0m                                 Traceback (most recent call last)",
      "\u001b[0;32m<ipython-input-2-f149ce5cb819>\u001b[0m in \u001b[0;36m<module>\u001b[0;34m\u001b[0m\n\u001b[1;32m     14\u001b[0m     \u001b[0m_\u001b[0m\u001b[0;34m,\u001b[0m\u001b[0m_\u001b[0m\u001b[0;34m,\u001b[0m\u001b[0mcov\u001b[0m\u001b[0;34m=\u001b[0m\u001b[0mtest2\u001b[0m\u001b[0;34m.\u001b[0m\u001b[0mRFID_match\u001b[0m\u001b[0;34m(\u001b[0m\u001b[0;34m)\u001b[0m\u001b[0;34m\u001b[0m\u001b[0m\n\u001b[1;32m     15\u001b[0m     \u001b[0mtest2\u001b[0m\u001b[0;34m.\u001b[0m\u001b[0mfind_activte_mice\u001b[0m\u001b[0;34m(\u001b[0m\u001b[0;34m)\u001b[0m\u001b[0;34m\u001b[0m\u001b[0m\n\u001b[0;32m---> 16\u001b[0;31m \u001b[0mtest2\u001b[0m\u001b[0;34m.\u001b[0m\u001b[0mgenerate_validation_video\u001b[0m\u001b[0;34m(\u001b[0m\u001b[0;34m)\u001b[0m\u001b[0;34m\u001b[0m\u001b[0m\n\u001b[0m\u001b[1;32m     17\u001b[0m \u001b[0mtest2\u001b[0m\u001b[0;34m.\u001b[0m\u001b[0mgenerate_labeled_video\u001b[0m\u001b[0;34m(\u001b[0m\u001b[0;34m)\u001b[0m\u001b[0;34m\u001b[0m\u001b[0m\n",
      "\u001b[0;32m~/Desktop/PSYCO/psyco.py\u001b[0m in \u001b[0;36mgenerate_validation_video\u001b[0;34m(self, out_folder)\u001b[0m\n\u001b[1;32m    143\u001b[0m \u001b[0;34m\u001b[0m\u001b[0m\n\u001b[1;32m    144\u001b[0m     \u001b[0;32mdef\u001b[0m \u001b[0mgenerate_validation_video\u001b[0m\u001b[0;34m(\u001b[0m\u001b[0mself\u001b[0m\u001b[0;34m,\u001b[0m\u001b[0mout_folder\u001b[0m\u001b[0;34m=\u001b[0m\u001b[0;34m'None'\u001b[0m\u001b[0;34m)\u001b[0m\u001b[0;34m:\u001b[0m\u001b[0;34m\u001b[0m\u001b[0m\n\u001b[0;32m--> 145\u001b[0;31m         \u001b[0mcreate_validation_Video\u001b[0m\u001b[0;34m(\u001b[0m\u001b[0mself\u001b[0m\u001b[0;34m.\u001b[0m\u001b[0mpath\u001b[0m\u001b[0;34m,\u001b[0m\u001b[0mself\u001b[0m\u001b[0;34m.\u001b[0m\u001b[0mdf_tracks_out\u001b[0m\u001b[0;34m,\u001b[0m\u001b[0mself\u001b[0m\u001b[0;34m.\u001b[0m\u001b[0mtags\u001b[0m\u001b[0;34m,\u001b[0m\u001b[0mself\u001b[0m\u001b[0;34m.\u001b[0m\u001b[0mconfig_path\u001b[0m\u001b[0;34m,\u001b[0m\u001b[0moutput\u001b[0m\u001b[0;34m=\u001b[0m\u001b[0;32mNone\u001b[0m\u001b[0;34m)\u001b[0m\u001b[0;34m\u001b[0m\u001b[0m\n\u001b[0m\u001b[1;32m    146\u001b[0m \u001b[0;34m\u001b[0m\u001b[0m\n\u001b[1;32m    147\u001b[0m \u001b[0;34m\u001b[0m\u001b[0m\n",
      "\u001b[0;32m~/Desktop/PSYCO/psyco_utils/generate_vid.py\u001b[0m in \u001b[0;36mcreate_validation_Video\u001b[0;34m(folder, df1, tags, config_dic, output)\u001b[0m\n\u001b[1;32m    135\u001b[0m         \u001b[0moutput\u001b[0m \u001b[0;34m=\u001b[0m \u001b[0mfolder\u001b[0m\u001b[0;34m\u001b[0m\u001b[0m\n\u001b[1;32m    136\u001b[0m     \u001b[0;31m#output='/media/tony/data/data/test_tracks/vertification/older_coords/vertifications'\u001b[0m\u001b[0;34m\u001b[0m\u001b[0;34m\u001b[0m\u001b[0m\n\u001b[0;32m--> 137\u001b[0;31m     \u001b[0mRFID_coords\u001b[0m\u001b[0;34m=\u001b[0m\u001b[0mconfig_dic\u001b[0m\u001b[0;34m[\u001b[0m\u001b[0;34m'RFID_readers'\u001b[0m\u001b[0;34m]\u001b[0m\u001b[0;34m\u001b[0m\u001b[0m\n\u001b[0m\u001b[1;32m    138\u001b[0m     \u001b[0mentrance_reader\u001b[0m\u001b[0;34m=\u001b[0m\u001b[0mconfig_dic\u001b[0m\u001b[0;34m[\u001b[0m\u001b[0;34m'entrance_reader'\u001b[0m\u001b[0;34m]\u001b[0m\u001b[0;34m\u001b[0m\u001b[0m\n\u001b[1;32m    139\u001b[0m     \u001b[0;32mif\u001b[0m \u001b[0mentrance_reader\u001b[0m \u001b[0;34m!=\u001b[0m \u001b[0;32mNone\u001b[0m\u001b[0;34m:\u001b[0m\u001b[0;34m\u001b[0m\u001b[0m\n",
      "\u001b[0;31mTypeError\u001b[0m: string indices must be integers"
     ]
    },
    {
     "name": "stderr",
     "output_type": "stream",
     "text": [
      "\r",
      "Starting Left over Tag match comphrensive loop 2: 100%|██████████| 21/21 [00:12<00:00, 31.86it/s]"
     ]
    }
   ],
   "source": [
    "paths='/home/tony/alt_tracker/tests/'\n",
    "config_path='/home/tony/alt_tracker/tests/config.ini'\n",
    "coverage=[]\n",
    "vids=[paths+folder for folder in os.listdir(paths) if folder[-4:]!='.txt' and folder[-4:] !='ions' and folder[-4:]!='.csv' and folder[-4:]!='.ini']\n",
    "vids=[vids[1]]\n",
    "for path in vids:\n",
    "    with open(path+'/'+'logs.txt','r') as f:\n",
    "        tags=f.readlines()\n",
    "        tags=[int(i) for i in tags[1][6:].split(',')]\n",
    "    test2=PSYCO(path,config_path)\n",
    "    #test2.detect_mice()\n",
    "    test2.load_RFID()\n",
    "    test2.load_dets()\n",
    "    _,_,cov=test2.RFID_match()\n",
    "    test2.find_activte_mice()\n",
    "test2.generate_validation_video()\n",
    "test2.generate_labeled_video()"
   ]
  },
  {
   "cell_type": "code",
   "execution_count": 10,
   "metadata": {},
   "outputs": [
    {
     "data": {
      "text/plain": [
       "75.55146634181341"
      ]
     },
     "execution_count": 10,
     "metadata": {},
     "output_type": "execute_result"
    }
   ],
   "source": [
    "\n",
    "paths='/media/tony/data/data/ann_marie/mx1/2021-01-06_23-58-16/'\n",
    "config_path='/media/tony/data/data/ann_marie/mx1/config.ini'\n",
    "coverage=[]\n",
    "#vids=[paths+folder for folder in os.listdir(paths) if folder[-4:]!='.txt' and folder[-4:] !='ions' and folder[-4:]!='.csv' and folder[-4:]!='.ini']\n",
    "vids=['/media/tony/data/data/ann_marie/mx1/2021-01-06_23-58-16']\n",
    "for path in vids:\n",
    "    with open(path+'/'+'logs.txt','r') as f:\n",
    "        tags=f.readlines()\n",
    "        tags=[int(i) for i in tags[1][6:].split(',')]\n",
    "    df2=pd.read_csv(f'{path}/RFID_data_all.csv',index_col=False)\n",
    "    df2.Time=pd.to_datetime(df2['Time'],format=\"%Y-%m-%d_%H:%M:%S.%f\")\n",
    "    df2['Time']=df2['Time'].astype(np.int64)/10**9\n",
    "    duration=df2.iloc[-1]['Time']-df2.iloc[0]['Time']\n",
    "    test2=PSYCO(path,config_path)\n",
    "    #test2.detect_mice()\n",
    "    t1=time.time()\n",
    "    test2.load_RFID()\n",
    "    test2.load_dets()\n",
    "    _,_,cov=test2.RFID_match()\n",
    "    test2.find_activte_mice()\n",
    "    t2=time.time()\n",
    "#rought detection speed: 188.76 min rtx2080ti;339 min on g\n",
    "#test2.generate_validation_video()\n",
    "#13 hours\n",
    "#5:39 min SORT assignment\n",
    "#12:52 min  kal\n"
   ]
  }
 ],
 "metadata": {
  "kernelspec": {
   "display_name": "Python 3",
   "language": "python",
   "name": "python3"
  },
  "language_info": {
   "codemirror_mode": {
    "name": "ipython",
    "version": 3
   },
   "file_extension": ".py",
   "mimetype": "text/x-python",
   "name": "python",
   "nbconvert_exporter": "python",
   "pygments_lexer": "ipython3",
   "version": "3.7.0"
  }
 },
 "nbformat": 4,
 "nbformat_minor": 4
}
